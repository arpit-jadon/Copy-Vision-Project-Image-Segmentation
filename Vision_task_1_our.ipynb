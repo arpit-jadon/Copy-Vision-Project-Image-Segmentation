{
 "cells": [
  {
   "cell_type": "markdown",
   "metadata": {},
   "source": [
    "# Image Segmentation Task 1\n",
    "#### Welcome to the first task of Image Segmentation. Image segmentation is the process of partitioning the image into a set of pixels representing an object. In this task, you will be introduced to the problem of image segmentation and programming pipeline involved in image segmentation."
   ]
  },
  {
   "cell_type": "markdown",
   "metadata": {},
   "source": [
    "For the purpose of this task we will be using PASCAL VOC datset. The dataset contains a total of 2913 images with segmentation annotations. Code in the cell below will download the code and extract the dataset."
   ]
  },
  {
   "cell_type": "code",
   "execution_count": 1,
   "metadata": {
    "colab": {
     "base_uri": "https://localhost:8080/"
    },
    "executionInfo": {
     "elapsed": 216508,
     "status": "ok",
     "timestamp": 1610647557551,
     "user": {
      "displayName": "dikshant gupta",
      "photoUrl": "https://lh3.googleusercontent.com/a-/AOh14GjGExYbOwwSrmoe8LVKyI5XQQl2f1k4HbD2Vx5Vpg=s64",
      "userId": "01845807612441668603"
     },
     "user_tz": -60
    },
    "id": "zM_t4c-S3k31",
    "outputId": "b960fc6f-f665-42c4-db32-1b6ced9dfb60",
    "scrolled": true,
    "tags": []
   },
   "outputs": [],
   "source": [
    "# !wget http://host.robots.ox.ac.uk/pascal/VOC/voc2012/VOCtrainval_11-May-2012.tar\n",
    "# !tar -xvf VOCtrainval_11-May-2012.tar"
   ]
  },
  {
   "cell_type": "code",
   "execution_count": 2,
   "metadata": {
    "colab": {
     "base_uri": "https://localhost:8080/"
    },
    "executionInfo": {
     "elapsed": 255947,
     "status": "ok",
     "timestamp": 1610647598272,
     "user": {
      "displayName": "dikshant gupta",
      "photoUrl": "https://lh3.googleusercontent.com/a-/AOh14GjGExYbOwwSrmoe8LVKyI5XQQl2f1k4HbD2Vx5Vpg=s64",
      "userId": "01845807612441668603"
     },
     "user_tz": -60
    },
    "id": "6lvs9XIpBaI0",
    "outputId": "40b9ac25-7e3b-47ae-b396-dc3dcb21b608"
   },
   "outputs": [],
   "source": [
    "# !pip install scipy==1.1.0"
   ]
  },
  {
   "cell_type": "markdown",
   "metadata": {},
   "source": [
    "### 1.1 Loading the dataset"
   ]
  },
  {
   "cell_type": "code",
   "execution_count": 3,
   "metadata": {
    "executionInfo": {
     "elapsed": 259698,
     "status": "ok",
     "timestamp": 1610647602623,
     "user": {
      "displayName": "dikshant gupta",
      "photoUrl": "https://lh3.googleusercontent.com/a-/AOh14GjGExYbOwwSrmoe8LVKyI5XQQl2f1k4HbD2Vx5Vpg=s64",
      "userId": "01845807612441668603"
     },
     "user_tz": -60
    },
    "id": "qunDv45j24Mg"
   },
   "outputs": [],
   "source": [
    "# They took this loader from here: \n",
    "# https://github.com/meetshah1995/pytorch-semseg/tree/801fb200547caa5b0d91b8dde56b837da029f746/ptsemseg/loader\n",
    "\n",
    "import os\n",
    "from os.path import join as pjoin\n",
    "import collections\n",
    "import json\n",
    "import torch\n",
    "import imageio\n",
    "import numpy as np\n",
    "import scipy.misc as m\n",
    "import scipy.io as io\n",
    "import matplotlib.pyplot as plt\n",
    "import glob\n",
    "import torch.nn as nn\n",
    "\n",
    "from PIL import Image\n",
    "from tqdm import tqdm\n",
    "from torch.utils import data\n",
    "from torchvision import transforms\n",
    "\n",
    "\n",
    "class pascalVOCDataset(data.Dataset):\n",
    "    \"\"\"Data loader for the Pascal VOC semantic segmentation dataset.\n",
    "\n",
    "    Annotations from both the original VOC data (which consist of RGB images\n",
    "    in which colours map to specific classes) and the SBD (Berkely) dataset\n",
    "    (where annotations are stored as .mat files) are converted into a common\n",
    "    `label_mask` format.  Under this format, each mask is an (M,N) array of\n",
    "    integer values from 0 to 21, where 0 represents the background class.\n",
    "\n",
    "    The label masks are stored in a new folder, called `pre_encoded`, which\n",
    "    is added as a subdirectory of the `SegmentationClass` folder in the\n",
    "    original Pascal VOC data layout.\n",
    "\n",
    "    A total of five data splits are provided for working with the VOC data:\n",
    "        train: The original VOC 2012 training data - 1464 images\n",
    "        val: The original VOC 2012 validation data - 1449 images\n",
    "        trainval: The combination of `train` and `val` - 2913 images\n",
    "        train_aug: The unique images present in both the train split and\n",
    "                   training images from SBD: - 8829 images (the unique members\n",
    "                   of the result of combining lists of length 1464 and 8498)\n",
    "        train_aug_val: The original VOC 2012 validation data minus the images\n",
    "                   present in `train_aug` (This is done with the same logic as\n",
    "                   the validation set used in FCN PAMI paper, but with VOC 2012\n",
    "                   rather than VOC 2011) - 904 images\n",
    "    \"\"\"\n",
    "\n",
    "    def __init__(\n",
    "        self,\n",
    "        root,\n",
    "        sbd_path=None,\n",
    "        split=\"train_aug\",\n",
    "        is_transform=False,\n",
    "        img_size=512,\n",
    "        augmentations=None,\n",
    "        img_norm=True,\n",
    "        test_mode=False,\n",
    "    ):\n",
    "        self.root = root\n",
    "        self.sbd_path = sbd_path\n",
    "        self.split = split\n",
    "        self.is_transform = is_transform\n",
    "        self.augmentations = augmentations\n",
    "        self.img_norm = img_norm\n",
    "        self.test_mode = test_mode\n",
    "        self.n_classes = 21\n",
    "        self.mean = np.array([104.00699, 116.66877, 122.67892])\n",
    "        self.files = collections.defaultdict(list)\n",
    "        self.img_size = img_size if isinstance(img_size, tuple) else (img_size, img_size)\n",
    "\n",
    "        if not self.test_mode:\n",
    "            for split in [\"train\", \"val\", \"trainval\"]:\n",
    "                path = pjoin(self.root, \"ImageSets/Segmentation\", split + \".txt\")\n",
    "                file_list = tuple(open(path, \"r\"))\n",
    "                file_list = [id_.rstrip() for id_ in file_list]\n",
    "                self.files[split] = file_list\n",
    "            self.setup_annotations()\n",
    "\n",
    "        self.tf = transforms.Compose(\n",
    "            [\n",
    "                # add more trasnformations as you see fit\n",
    "                transforms.ToTensor(),\n",
    "                transforms.Normalize([0.485, 0.456, 0.406], [0.229, 0.224, 0.225]),\n",
    "            ]\n",
    "        )\n",
    "\n",
    "    def __len__(self):\n",
    "        return len(self.files[self.split])\n",
    "\n",
    "    def __getitem__(self, index):\n",
    "        im_name = self.files[self.split][index]\n",
    "        im_path = pjoin(self.root, \"JPEGImages\", im_name + \".jpg\")\n",
    "        lbl_path = pjoin(self.root, \"SegmentationClass/pre_encoded\", im_name + \".png\")\n",
    "        im = Image.open(im_path)\n",
    "        lbl = Image.open(lbl_path)\n",
    "        if self.augmentations is not None:\n",
    "            im, lbl = self.augmentations(im, lbl)\n",
    "        if self.is_transform:\n",
    "            im, lbl = self.transform(im, lbl)\n",
    "        return im, torch.clamp(lbl, max=20)\n",
    "\n",
    "    def transform(self, img, lbl):\n",
    "        if self.img_size == (\"same\", \"same\"):\n",
    "            pass\n",
    "        else:\n",
    "            img = img.resize((self.img_size[0], self.img_size[1]))  # uint8 with RGB mode\n",
    "            lbl = lbl.resize((self.img_size[0], self.img_size[1]))\n",
    "        img = self.tf(img)\n",
    "        lbl = torch.from_numpy(np.array(lbl)).long()\n",
    "        lbl[lbl == 255] = 0\n",
    "        return img, lbl\n",
    "\n",
    "    def get_pascal_labels(self):\n",
    "        \"\"\"Load the mapping that associates pascal classes with label colors\n",
    "\n",
    "        Returns:\n",
    "            np.ndarray with dimensions (21, 3)\n",
    "        \"\"\"\n",
    "        return np.asarray(\n",
    "            [\n",
    "                [0, 0, 0],\n",
    "                [128, 0, 0],\n",
    "                [0, 128, 0],\n",
    "                [128, 128, 0],\n",
    "                [0, 0, 128],\n",
    "                [128, 0, 128],\n",
    "                [0, 128, 128],\n",
    "                [128, 128, 128],\n",
    "                [64, 0, 0],\n",
    "                [192, 0, 0],\n",
    "                [64, 128, 0],\n",
    "                [192, 128, 0],\n",
    "                [64, 0, 128],\n",
    "                [192, 0, 128],\n",
    "                [64, 128, 128],\n",
    "                [192, 128, 128],\n",
    "                [0, 64, 0],\n",
    "                [128, 64, 0],\n",
    "                [0, 192, 0],\n",
    "                [128, 192, 0],\n",
    "                [0, 64, 128],\n",
    "            ]\n",
    "        )\n",
    "\n",
    "    def encode_segmap(self, mask):\n",
    "        \"\"\"Encode segmentation label images as pascal classes\n",
    "\n",
    "        Args:\n",
    "            mask (np.ndarray): raw segmentation label image of dimension\n",
    "              (M, N, 3), in which the Pascal classes are encoded as colours.\n",
    "\n",
    "        Returns:\n",
    "            (np.ndarray): class map with dimensions (M,N), where the value at\n",
    "            a given location is the integer denoting the class index.\n",
    "        \"\"\"\n",
    "        mask = mask.astype(int)\n",
    "        label_mask = np.zeros((mask.shape[0], mask.shape[1]), dtype=np.int16)\n",
    "        for ii, label in enumerate(self.get_pascal_labels()):\n",
    "            label_mask[np.where(np.all(mask == label, axis=-1))[:2]] = ii\n",
    "        label_mask = label_mask.astype(int)\n",
    "        # print(np.unique(label_mask))\n",
    "        return label_mask\n",
    "\n",
    "    def decode_segmap(self, label_mask, plot=False):\n",
    "        \"\"\"Decode segmentation class labels into a color image\n",
    "\n",
    "        Args:\n",
    "            label_mask (np.ndarray): an (M,N) array of integer values denoting\n",
    "              the class label at each spatial location.\n",
    "            plot (bool, optional): whether to show the resulting color image\n",
    "              in a figure.\n",
    "\n",
    "        Returns:\n",
    "            (np.ndarray, optional): the resulting decoded color image.\n",
    "        \"\"\"\n",
    "        label_colours = self.get_pascal_labels()\n",
    "        r = label_mask.copy()\n",
    "        g = label_mask.copy()\n",
    "        b = label_mask.copy()\n",
    "        for ll in range(0, self.n_classes):\n",
    "            r[label_mask == ll] = label_colours[ll, 0]\n",
    "            g[label_mask == ll] = label_colours[ll, 1]\n",
    "            b[label_mask == ll] = label_colours[ll, 2]\n",
    "        rgb = np.zeros((label_mask.shape[0], label_mask.shape[1], 3))\n",
    "        rgb[:, :, 0] = r / 255.0\n",
    "        rgb[:, :, 1] = g / 255.0\n",
    "        rgb[:, :, 2] = b / 255.0\n",
    "        if plot:\n",
    "            plt.imshow(rgb)\n",
    "            plt.show()\n",
    "        else:\n",
    "            return rgb\n",
    "\n",
    "    def setup_annotations(self):\n",
    "        \"\"\"Sets up Berkley annotations by adding image indices to the\n",
    "        `train_aug` split and pre-encode all segmentation labels into the\n",
    "        common label_mask format (if this has not already been done). This\n",
    "        function also defines the `train_aug` and `train_aug_val` data splits\n",
    "        according to the description in the class docstring\n",
    "        \"\"\"\n",
    "        sbd_path = self.sbd_path\n",
    "        target_path = pjoin(self.root, \"SegmentationClass/pre_encoded\")\n",
    "        if not os.path.exists(target_path):\n",
    "            os.makedirs(target_path)\n",
    "        train_aug = self.files[\"train\"]\n",
    "\n",
    "        # keep unique elements (stable)\n",
    "        train_aug = [train_aug[i] for i in sorted(np.unique(train_aug, return_index=True)[1])]\n",
    "        self.files[\"train_aug\"] = train_aug\n",
    "        set_diff = set(self.files[\"val\"]) - set(train_aug)  # remove overlap\n",
    "        self.files[\"train_aug_val\"] = list(set_diff)\n",
    "\n",
    "        pre_encoded = glob.glob(pjoin(target_path, \"*.png\"))\n",
    "        expected = np.unique(self.files[\"train_aug\"] + self.files[\"val\"]).size\n",
    "\n",
    "        if len(pre_encoded) != expected:\n",
    "            print(\"Pre-encoding segmentation masks...\")\n",
    "\n",
    "            for ii in tqdm(self.files[\"trainval\"]):\n",
    "                fname = ii + \".png\"\n",
    "                lbl_path = pjoin(self.root, \"SegmentationClass\", fname)\n",
    "                lbl = self.encode_segmap(m.imread(lbl_path))\n",
    "                lbl = m.toimage(lbl, high=lbl.max(), low=lbl.min())\n",
    "                m.imsave(pjoin(target_path, fname), lbl)\n",
    "\n",
    "        assert expected == 2913, \"unexpected dataset sizes\""
   ]
  },
  {
   "cell_type": "markdown",
   "metadata": {},
   "source": [
    "### 1.2 Define the model architecture(2.0 point)\n",
    "In this section you have the freedom to decide your own model. Keep in mind though, to perform image segmentation, you need to implement an architecture that does pixel level classification i.e. for each pixel in the image you need to predict the probability of it belonging to one of the 21 categories."
   ]
  },
  {
   "cell_type": "markdown",
   "metadata": {},
   "source": [
    "**We have implemented the U-Net architecture as introduced in the paper: https://arxiv.org/abs/1505.04597 with some additions**"
   ]
  },
  {
   "cell_type": "code",
   "execution_count": 4,
   "metadata": {},
   "outputs": [],
   "source": [
    "## UNet Architecture With Valid convolutions and batch norm in the double convolution block.\n",
    "# Valid conv. added to keep the output size same as the input image.\n",
    "# Batch norm was introduced after the U-Net paper was published, so it'll only benefit in learning.\n",
    "\n",
    "import torch.nn as nn\n",
    "\n",
    "# Defining the block consisting of double convolution operations (each unpadded 3x3 convolution  followed by a relu activation)\n",
    "# as used in U-Net paper.   \n",
    "# in_c : number of input channels and out_c : number of output channels\n",
    "def double_conv(in_c, out_c):\n",
    "    conv = nn.Sequential(\n",
    "    nn.Conv2d(in_c, out_c, kernel_size = 3, stride = 1, padding = 1, bias = False),\n",
    "    nn.BatchNorm2d(out_c),\n",
    "    nn.ReLU(inplace=True),\n",
    "    nn.Conv2d(out_c, out_c, kernel_size = 3, stride = 1, padding = 1, bias = False),\n",
    "    nn.BatchNorm2d(out_c),\n",
    "    nn.ReLU(inplace=True),\n",
    "    )\n",
    "    return conv\n",
    "    \n",
    "# Cropping the feature map from the contracting path to concatentate it with corresponding\n",
    "# feature map in the expansive path.\n",
    "def crop_img(tensor, target_tensor):\n",
    "    target_size = target_tensor.size()[2]\n",
    "    tensor_size = tensor.size()[2]\n",
    "    delta = tensor_size - target_size\n",
    "    delta = delta // 2\n",
    "    return tensor[:, :, delta:tensor_size-delta, delta:tensor_size-delta]\n",
    "    \n",
    "class UNet(nn.Module):\n",
    "    def __init__(self):\n",
    "        super(UNet, self).__init__()\n",
    "\n",
    "        #Defining 2x2 max pooling layer with stride 2 for downsampling in contractive path\n",
    "        self.max_pool_2x2 = nn.MaxPool2d(kernel_size = 2, stride = 2) \n",
    "        # 5 double convolution blocks with different number of filters/feature_channels\n",
    "        self.down_conv_1 = double_conv(3,64)\n",
    "        self.down_conv_2 = double_conv(64,128)\n",
    "        self.down_conv_3 = double_conv(128,256)\n",
    "        self.down_conv_4 = double_conv(256,512)\n",
    "        self.down_conv_5 = double_conv(512,1024)\n",
    "        \n",
    "        # Up convolutions (2x2 up-convolutions) for the expansive path for upsamling\n",
    "        self.up_trans_1 = nn.ConvTranspose2d(in_channels=1024, out_channels=512, kernel_size=2, stride=2)\n",
    "        # Double convolutions in the expansive path\n",
    "        self.up_conv_1 = double_conv(1024, 512)\n",
    "\n",
    "        self.up_trans_2 = nn.ConvTranspose2d(in_channels=512, out_channels=256, kernel_size=2, stride=2)        \n",
    "        self.up_conv_2 = double_conv(512, 256)\n",
    "\n",
    "        self.up_trans_3 = nn.ConvTranspose2d(in_channels=256, out_channels=128, kernel_size=2, stride=2)        \n",
    "        self.up_conv_3 = double_conv(256, 128)\n",
    "\n",
    "        self.up_trans_4 = nn.ConvTranspose2d(in_channels=128, out_channels=64, kernel_size=2, stride=2)        \n",
    "        self.up_conv_4 = double_conv(128, 64)\n",
    "        \n",
    "        # 1x1 convolution, out_channels = total desired classes (21 including bgnd for pascal voc)\n",
    "        self.out = nn.Conv2d(in_channels=64, out_channels = 21, kernel_size = 1)\n",
    "\n",
    "    def forward(self, image):\n",
    "        # encoder\n",
    "        # image--> batch_size, #imagechannels, height, width\n",
    "        # First double conv block\n",
    "        print(f'Original Image Size: {image.size()}')\n",
    "        x1 = self.down_conv_1(image) # this map goes for concatenation\n",
    "        print(f'Feature Map Size After 1st Double Conv: {x1.size()}')\n",
    "        # First max pooling oper. taking the o/p of 1st double conv block \n",
    "        x2 = self.max_pool_2x2(x1) \n",
    "        x3 = self.down_conv_2(x2) # this map goes for concatenation\n",
    "        x4 = self.max_pool_2x2(x3) \n",
    "        x5 = self.down_conv_3(x4) # this map goes for concatenation\n",
    "        x6 = self.max_pool_2x2(x5) \n",
    "        x7 = self.down_conv_4(x6) # this map goes for concatenation\n",
    "        x8 = self.max_pool_2x2(x7) \n",
    "        x9 = self.down_conv_5 (x8)\n",
    "        print(f'Feature Map Size at the End of Contractive Path: {x9.size()}')\n",
    "        \n",
    "        # decoder\n",
    "        x = self.up_trans_1(x9)\n",
    "        # Cropping x7 to same size of x (feature map after up-sampling) for concatenation of both feature maps\n",
    "        # Applying double convolution on the concatenated feature map\n",
    "        x = self.up_conv_1(torch.cat([x,x7],1))\n",
    "        \n",
    "        x = self.up_trans_2(x)\n",
    "        x = self.up_conv_2(torch.cat([x,x5],1))\n",
    "\n",
    "        x = self.up_trans_3(x)\n",
    "        x = self.up_conv_3(torch.cat([x,x3],1))\n",
    "        \n",
    "        x = self.up_trans_4(x)\n",
    "        x = self.up_conv_4(torch.cat([x,x1],1))\n",
    "        \n",
    "        x = self.out(x)\n",
    "        print(f'Output Image Size: {x.size()}')\n",
    "        \n",
    "        return x\n"
   ]
  },
  {
   "cell_type": "code",
   "execution_count": 5,
   "metadata": {
    "scrolled": true,
    "tags": []
   },
   "outputs": [
    {
     "name": "stdout",
     "output_type": "stream",
     "text": [
      "Original Image Size: torch.Size([1, 3, 512, 512])\n",
      "Feature Map Size After 1st Double Conv: torch.Size([1, 64, 512, 512])\n",
      "Feature Map Size at the End of Contractive Path: torch.Size([1, 1024, 32, 32])\n",
      "Output Image Size: torch.Size([1, 21, 512, 512])\n",
      "tensor([[[[-0.3228,  0.2036,  0.0460,  ..., -0.0882,  0.4917,  0.4078],\n",
      "          [-0.0702,  0.0019, -0.4617,  ...,  0.5635, -0.2774, -0.0257],\n",
      "          [-0.0898,  0.3874,  0.4286,  ...,  0.4794, -0.2990,  0.4417],\n",
      "          ...,\n",
      "          [-0.5246,  0.3156, -0.6431,  ..., -0.0867, -0.0069,  0.3005],\n",
      "          [-0.2187, -0.4853,  0.1621,  ...,  0.7068, -0.0453,  0.0082],\n",
      "          [-0.1998, -0.2911,  0.0156,  ..., -0.1531,  0.0294,  0.0652]],\n",
      "\n",
      "         [[ 0.0686,  0.1306, -0.0402,  ...,  0.4392,  0.4284,  0.4754],\n",
      "          [-0.5010, -0.1275,  0.1959,  ..., -0.1242, -0.1144,  0.1549],\n",
      "          [ 0.0267,  0.2691, -0.0065,  ...,  0.2441,  0.2245, -0.0407],\n",
      "          ...,\n",
      "          [-0.1258, -0.1820,  0.0326,  ..., -0.5058, -0.0435,  0.0772],\n",
      "          [ 0.0084, -0.3135,  0.1082,  ..., -0.4175, -0.0660, -0.0375],\n",
      "          [ 0.1736, -0.0368,  0.0339,  ..., -0.1960, -0.4576, -0.0687]],\n",
      "\n",
      "         [[ 0.0946, -0.1167, -0.1771,  ...,  0.2024,  0.0462,  0.2223],\n",
      "          [-0.8087, -1.1836, -0.7207,  ..., -0.0294, -0.9849, -0.2150],\n",
      "          [-0.1126, -0.0109, -0.3834,  ...,  0.3606, -0.2417,  0.1718],\n",
      "          ...,\n",
      "          [ 0.1062,  0.1037,  0.0685,  ..., -0.2061, -0.3706,  0.0955],\n",
      "          [-0.3266,  0.2440, -0.4483,  ...,  0.0037, -0.1115, -0.1791],\n",
      "          [-0.3254, -0.0787, -0.3578,  ...,  0.1029, -0.3660,  0.0435]],\n",
      "\n",
      "         ...,\n",
      "\n",
      "         [[ 0.4345,  0.2193,  0.4822,  ...,  0.6777,  0.5764,  0.5083],\n",
      "          [ 0.7531,  0.6961,  0.9650,  ...,  0.6027,  1.1922,  0.7679],\n",
      "          [ 0.6507,  0.5806,  0.8322,  ...,  0.5158,  0.3835,  0.4997],\n",
      "          ...,\n",
      "          [ 0.3904,  0.8130,  0.4680,  ...,  0.2033,  0.2044,  0.6076],\n",
      "          [-0.0095,  0.3872,  0.7021,  ...,  0.2635,  0.8890,  0.5792],\n",
      "          [ 0.2703,  0.4380,  0.3593,  ...,  0.2464,  0.2698,  0.2682]],\n",
      "\n",
      "         [[-0.1193,  0.1167,  0.1540,  ...,  0.3311,  0.3229,  0.2292],\n",
      "          [-0.1247, -0.2137, -0.1272,  ...,  0.2291, -0.0318,  0.2001],\n",
      "          [-0.0668,  0.1358,  0.3766,  ...,  0.0168, -0.0809, -0.1492],\n",
      "          ...,\n",
      "          [ 0.1504,  0.4816,  0.0663,  ...,  0.0198,  0.0024, -0.3895],\n",
      "          [ 0.0517, -0.0995, -0.0527,  ..., -0.1852,  0.1953, -0.2101],\n",
      "          [ 0.0756, -0.1914, -0.4293,  ..., -0.2042, -0.1918, -0.3609]],\n",
      "\n",
      "         [[ 0.2839, -0.0066,  0.0935,  ...,  0.6683,  0.1121,  0.6451],\n",
      "          [ 0.6698,  0.1179,  0.6979,  ..., -0.6233,  0.1050,  0.2339],\n",
      "          [ 0.0354,  0.4472,  0.5266,  ..., -0.2991,  0.4892,  0.1266],\n",
      "          ...,\n",
      "          [-0.2614, -0.0359,  0.2032,  ..., -0.2739,  0.0568,  0.2166],\n",
      "          [ 0.1629, -0.0899,  0.6459,  ...,  0.5902,  0.1401, -0.0299],\n",
      "          [ 0.2516, -0.0122,  0.2277,  ..., -0.0109,  0.0330,  0.2001]]]],\n",
      "       grad_fn=<MkldnnConvolutionBackward>)\n"
     ]
    }
   ],
   "source": [
    "# Just added this block for some testing (to check if the feature map dimensions are matching the U-Net architecture)\n",
    "image = torch.rand((1,3,512,512))\n",
    "model = UNet()\n",
    "print(model(image))"
   ]
  },
  {
   "cell_type": "code",
   "execution_count": 6,
   "metadata": {
    "executionInfo": {
     "elapsed": 11035,
     "status": "ok",
     "timestamp": 1610647664665,
     "user": {
      "displayName": "dikshant gupta",
      "photoUrl": "https://lh3.googleusercontent.com/a-/AOh14GjGExYbOwwSrmoe8LVKyI5XQQl2f1k4HbD2Vx5Vpg=s64",
      "userId": "01845807612441668603"
     },
     "user_tz": -60
    },
    "id": "QfQiOnEkGZat"
   },
   "outputs": [],
   "source": [
    "# Creating an instance of the model defined above. \n",
    "# You can modify it incase you need to pass paratemers to the constructor.\n",
    "model = UNet()"
   ]
  },
  {
   "cell_type": "code",
   "execution_count": 7,
   "metadata": {
    "scrolled": true,
    "tags": []
   },
   "outputs": [],
   "source": [
    "# print(model)"
   ]
  },
  {
   "cell_type": "code",
   "execution_count": 8,
   "metadata": {},
   "outputs": [
    {
     "data": {
      "text/plain": [
       "'# Using https://github.com/qubvel/segmentation_models.pytorch library for testing purposes\\nimport segmentation_models_pytorch as smp\\n\\nmodel = smp.Unet(\\n    encoder_name=\"resnet34\",        # choose encoder, e.g. mobilenet_v2 or efficientnet-b7\\n    encoder_weights=\"imagenet\",     # use `imagenet` pre-trained weights for encoder initialization\\n    in_channels=3,                  # model input channels (1 for gray-scale images, 3 for RGB, etc.)\\n    classes=21,                      # model output channels (number of classes in your dataset)\\n)'"
      ]
     },
     "execution_count": 8,
     "metadata": {},
     "output_type": "execute_result"
    }
   ],
   "source": [
    "\"\"\"# Using https://github.com/qubvel/segmentation_models.pytorch library for testing purposes\n",
    "import segmentation_models_pytorch as smp\n",
    "\n",
    "model = smp.Unet(\n",
    "    encoder_name=\"resnet34\",        # choose encoder, e.g. mobilenet_v2 or efficientnet-b7\n",
    "    encoder_weights=\"imagenet\",     # use `imagenet` pre-trained weights for encoder initialization\n",
    "    in_channels=3,                  # model input channels (1 for gray-scale images, 3 for RGB, etc.)\n",
    "    classes=21,                      # model output channels (number of classes in your dataset)\n",
    ")\"\"\""
   ]
  },
  {
   "cell_type": "markdown",
   "metadata": {},
   "source": [
    "### 1.3 Hyperparameters(0.5 points)\n",
    "Define all the hyperparameters(not restricted to the three given below) that you find useful here."
   ]
  },
  {
   "cell_type": "code",
   "execution_count": 9,
   "metadata": {},
   "outputs": [],
   "source": [
    "local_path = './VOCtrainval_11-May-2012/VOCdevkit/VOC2012/' # modify it according to your device\n",
    "bs = 1\n",
    "epochs = 50 "
   ]
  },
  {
   "cell_type": "markdown",
   "metadata": {},
   "source": [
    "### 1.4 Dataset and Dataloader(0.5 points)\n",
    "Create the dataset using pascalVOCDataset class defined above. Use local_path defined in the cell above as root. "
   ]
  },
  {
   "cell_type": "code",
   "execution_count": 10,
   "metadata": {},
   "outputs": [
    {
     "name": "stdout",
     "output_type": "stream",
     "text": [
      "Number of training images: 2913\n"
     ]
    }
   ],
   "source": [
    "# dataset variable\n",
    "# augs = aug.Compose([aug.RandomRotate(10), aug.RandomHorizontallyFlip()])\n",
    "# Can add these augmentations like here \n",
    "# [https://github.com/meetshah1995/pytorch-semseg/blob/801fb200547caa5b0d91b8dde56b837da029f746/ptsemseg/loader/pascal_voc_loader.py#L18]\n",
    "dst = pascalVOCDataset(root=local_path, is_transform=True, split='trainval') # Can also create two loaders -- split b/w train and val\n",
    "\n",
    "# dataloader variable\n",
    "trainloader = data.DataLoader(dst, batch_size=bs)\n",
    "\n",
    "print(f'Number of training images: {len(dst)}')"
   ]
  },
  {
   "cell_type": "code",
   "execution_count": 11,
   "metadata": {
    "scrolled": true,
    "tags": []
   },
   "outputs": [
    {
     "data": {
      "text/plain": [
       "'# Just added this cell for visualization\\n\\n# i, d in enumerate(trainloader) ---> here, d is list\\n# img--d[0] has the shape [2,3,512,512] or [batch_sz, #img_channels, img_sz, img_sz] -- img batch\\n# label--d[1] has the shape [2, 512, 512] or [batch_sz, mask_sz, mask_sz] -- mask batch\\n\\nfor i, data in enumerate(trainloader):\\n    if i>10:\\n        break\\n    imgs, labels = data\\n    imgs = imgs.numpy()[:, ::-1, :, :]\\n    imgs = np.transpose(imgs, [0,2,3,1])\\n    f, axarr = plt.subplots(bs, 2)\\n    for j in range(bs):\\n        axarr[j][0].imshow(imgs[j])\\n        axarr[j][1].imshow(dst.decode_segmap(labels.numpy()[j]))\\n        plt.show()\\n    '"
      ]
     },
     "execution_count": 11,
     "metadata": {},
     "output_type": "execute_result"
    }
   ],
   "source": [
    "\"\"\"# Just added this cell for visualization\n",
    "\n",
    "# i, d in enumerate(trainloader) ---> here, d is list\n",
    "# img--d[0] has the shape [2,3,512,512] or [batch_sz, #img_channels, img_sz, img_sz] -- img batch\n",
    "# label--d[1] has the shape [2, 512, 512] or [batch_sz, mask_sz, mask_sz] -- mask batch\n",
    "\n",
    "for i, data in enumerate(trainloader):\n",
    "    if i>10:\n",
    "        break\n",
    "    imgs, labels = data\n",
    "    imgs = imgs.numpy()[:, ::-1, :, :]\n",
    "    imgs = np.transpose(imgs, [0,2,3,1])\n",
    "    f, axarr = plt.subplots(bs, 2)\n",
    "    for j in range(bs):\n",
    "        axarr[j][0].imshow(imgs[j])\n",
    "        axarr[j][1].imshow(dst.decode_segmap(labels.numpy()[j]))\n",
    "        plt.show()\n",
    "    \"\"\""
   ]
  },
  {
   "cell_type": "markdown",
   "metadata": {},
   "source": [
    "### 1.5 Loss fuction and Optimizer(1.0 point)\n",
    "Define below with the loss function you think would be most suitable for segmentation task. You are free to choose any optimizer to train the network."
   ]
  },
  {
   "cell_type": "code",
   "execution_count": 12,
   "metadata": {},
   "outputs": [],
   "source": [
    "# loss function\n",
    "loss_f = nn.CrossEntropyLoss()\n",
    "\n",
    "# optimizer variable\n",
    "# opt = torch.optim.SGD(model.parameters(), weight_decay=5*1e-4, lr = 0.0001, momentum=0.9)\n",
    "opt = torch.optim.Adam(model.parameters(), lr=1e-3)"
   ]
  },
  {
   "cell_type": "markdown",
   "metadata": {},
   "source": [
    "### 1.6 Training the model(3.0 points)\n",
    "Your task here is to complete the code below to perform a training loop and save the model weights after each epoch of training."
   ]
  },
  {
   "cell_type": "code",
   "execution_count": 13,
   "metadata": {},
   "outputs": [],
   "source": [
    "# Implementation from Abhishek Thakur book - pg 216\n",
    "# Can also look at this training loop implementation:\n",
    "# https://github.com/Dhr11/Semantic_Segmentation/blob/master/Main_src.py]\n",
    "\n",
    "DEVICE = \"cuda\" #torch.device(\"cuda\" if torch.cuda.is_available() else \"cpu\") # or simply \"cuda\"\n",
    "\n",
    "model.to(DEVICE)\n",
    "\n",
    "def train(dataset, data_loader, model, criterion, optimizer):\n",
    "    \"\"\"\n",
    "    training function that trains for one epoch\n",
    "    :param dataset: dataset class (SIIMDataset)\n",
    "    :param data_loader: torch dataset loader\n",
    "    :param model: model\n",
    "    :param criterion: loss function\n",
    "    :param optimizer: adam, sgd, etc.\n",
    "    \"\"\"\n",
    "    # put the model in train mode\n",
    "    model.train()\n",
    "    # calculate number of batches\n",
    "    num_batches = int(len(dataset) / data_loader.batch_size)\n",
    "    # init tqdm to track progress\n",
    "    tk0 = tqdm(data_loader, total=num_batches)\n",
    "    # loop over all batches\n",
    "    for d in tk0:\n",
    "        # fetch input images and masks\n",
    "        # from dataset batch\n",
    "        inputs, targets = d\n",
    "#         print(inputs.shape)\n",
    "        # move images and masks to cpu/gpu device\n",
    "        inputs = inputs.to(DEVICE, dtype=torch.float)\n",
    "        targets = targets.to(DEVICE, dtype=torch.long)\n",
    "        # zero grad the optimizer\n",
    "        optimizer.zero_grad()\n",
    "        # forward step of model\n",
    "        outputs = model(inputs)\n",
    "#         print(outputs.shape)\n",
    "        # calculate loss\n",
    "        loss = criterion(outputs, targets)\n",
    "        # backward loss is calculated on a scaled loss\n",
    "        # context since we are using mixed precision training\n",
    "        # if you are not using mixed precision training,\n",
    "        # you can use loss.backward() and delete the following\n",
    "        # two lines of code\n",
    "#         with amp.scale_loss(loss, optimizer) as scaled_loss:\n",
    "#             scaled_loss.backward()\n",
    "        loss.backward()\n",
    "        # step the optimizer\n",
    "        optimizer.step()\n",
    "    # close tqdm\n",
    "    tk0.close()"
   ]
  },
  {
   "cell_type": "code",
   "execution_count": 14,
   "metadata": {
    "id": "Xz08hSdPKODm",
    "scrolled": true,
    "tags": []
   },
   "outputs": [
    {
     "name": "stderr",
     "output_type": "stream",
     "text": [
      "  0%|          | 1/2913 [00:00<09:35,  5.06it/s]"
     ]
    },
    {
     "name": "stdout",
     "output_type": "stream",
     "text": [
      "torch.Size([1, 3, 512, 512])\n",
      "Original Image Size: torch.Size([1, 3, 512, 512])\n",
      "Feature Map Size After 1st Double Conv: torch.Size([1, 64, 512, 512])\n",
      "Feature Map Size at the End of Contractive Path: torch.Size([1, 1024, 32, 32])\n",
      "Output Image Size: torch.Size([1, 21, 512, 512])\n",
      "torch.Size([1, 21, 512, 512])\n",
      "torch.Size([1, 3, 512, 512])\n"
     ]
    },
    {
     "name": "stderr",
     "output_type": "stream",
     "text": [
      "  0%|          | 2/2913 [00:00<11:48,  4.11it/s]"
     ]
    },
    {
     "name": "stdout",
     "output_type": "stream",
     "text": [
      "Original Image Size: torch.Size([1, 3, 512, 512])\n",
      "Feature Map Size After 1st Double Conv: torch.Size([1, 64, 512, 512])\n",
      "Feature Map Size at the End of Contractive Path: torch.Size([1, 1024, 32, 32])\n",
      "Output Image Size: torch.Size([1, 21, 512, 512])\n",
      "torch.Size([1, 21, 512, 512])\n",
      "torch.Size([1, 3, 512, 512])\n"
     ]
    },
    {
     "name": "stderr",
     "output_type": "stream",
     "text": [
      "  0%|          | 3/2913 [00:00<16:05,  3.01it/s]"
     ]
    },
    {
     "name": "stdout",
     "output_type": "stream",
     "text": [
      "Original Image Size: torch.Size([1, 3, 512, 512])\n",
      "Feature Map Size After 1st Double Conv: torch.Size([1, 64, 512, 512])\n",
      "Feature Map Size at the End of Contractive Path: torch.Size([1, 1024, 32, 32])\n",
      "Output Image Size: torch.Size([1, 21, 512, 512])\n",
      "torch.Size([1, 21, 512, 512])\n",
      "torch.Size([1, 3, 512, 512])\n"
     ]
    },
    {
     "name": "stderr",
     "output_type": "stream",
     "text": [
      "  0%|          | 4/2913 [00:01<18:03,  2.68it/s]"
     ]
    },
    {
     "name": "stdout",
     "output_type": "stream",
     "text": [
      "Original Image Size: torch.Size([1, 3, 512, 512])\n",
      "Feature Map Size After 1st Double Conv: torch.Size([1, 64, 512, 512])\n",
      "Feature Map Size at the End of Contractive Path: torch.Size([1, 1024, 32, 32])\n",
      "Output Image Size: torch.Size([1, 21, 512, 512])\n",
      "torch.Size([1, 21, 512, 512])\n",
      "torch.Size([1, 3, 512, 512])\n"
     ]
    },
    {
     "name": "stderr",
     "output_type": "stream",
     "text": [
      "  0%|          | 5/2913 [00:01<19:04,  2.54it/s]"
     ]
    },
    {
     "name": "stdout",
     "output_type": "stream",
     "text": [
      "Original Image Size: torch.Size([1, 3, 512, 512])\n",
      "Feature Map Size After 1st Double Conv: torch.Size([1, 64, 512, 512])\n",
      "Feature Map Size at the End of Contractive Path: torch.Size([1, 1024, 32, 32])\n",
      "Output Image Size: torch.Size([1, 21, 512, 512])\n",
      "torch.Size([1, 21, 512, 512])\n",
      "torch.Size([1, 3, 512, 512])\n"
     ]
    },
    {
     "name": "stderr",
     "output_type": "stream",
     "text": [
      "  0%|          | 6/2913 [00:02<19:17,  2.51it/s]"
     ]
    },
    {
     "name": "stdout",
     "output_type": "stream",
     "text": [
      "Original Image Size: torch.Size([1, 3, 512, 512])\n",
      "Feature Map Size After 1st Double Conv: torch.Size([1, 64, 512, 512])\n",
      "Feature Map Size at the End of Contractive Path: torch.Size([1, 1024, 32, 32])\n",
      "Output Image Size: torch.Size([1, 21, 512, 512])\n",
      "torch.Size([1, 21, 512, 512])\n",
      "torch.Size([1, 3, 512, 512])\n"
     ]
    },
    {
     "name": "stderr",
     "output_type": "stream",
     "text": [
      "  0%|          | 7/2913 [00:02<19:25,  2.49it/s]"
     ]
    },
    {
     "name": "stdout",
     "output_type": "stream",
     "text": [
      "Original Image Size: torch.Size([1, 3, 512, 512])\n",
      "Feature Map Size After 1st Double Conv: torch.Size([1, 64, 512, 512])\n",
      "Feature Map Size at the End of Contractive Path: torch.Size([1, 1024, 32, 32])\n",
      "Output Image Size: torch.Size([1, 21, 512, 512])\n",
      "torch.Size([1, 21, 512, 512])\n",
      "torch.Size([1, 3, 512, 512])\n"
     ]
    },
    {
     "name": "stderr",
     "output_type": "stream",
     "text": [
      "  0%|          | 8/2913 [00:03<19:54,  2.43it/s]"
     ]
    },
    {
     "name": "stdout",
     "output_type": "stream",
     "text": [
      "Original Image Size: torch.Size([1, 3, 512, 512])\n",
      "Feature Map Size After 1st Double Conv: torch.Size([1, 64, 512, 512])\n",
      "Feature Map Size at the End of Contractive Path: torch.Size([1, 1024, 32, 32])\n",
      "Output Image Size: torch.Size([1, 21, 512, 512])\n",
      "torch.Size([1, 21, 512, 512])\n",
      "torch.Size([1, 3, 512, 512])\n"
     ]
    },
    {
     "name": "stderr",
     "output_type": "stream",
     "text": [
      "  0%|          | 9/2913 [00:03<20:17,  2.39it/s]"
     ]
    },
    {
     "name": "stdout",
     "output_type": "stream",
     "text": [
      "Original Image Size: torch.Size([1, 3, 512, 512])\n",
      "Feature Map Size After 1st Double Conv: torch.Size([1, 64, 512, 512])\n",
      "Feature Map Size at the End of Contractive Path: torch.Size([1, 1024, 32, 32])\n",
      "Output Image Size: torch.Size([1, 21, 512, 512])\n",
      "torch.Size([1, 21, 512, 512])\n",
      "torch.Size([1, 3, 512, 512])\n"
     ]
    },
    {
     "name": "stderr",
     "output_type": "stream",
     "text": [
      "  0%|          | 10/2913 [00:03<20:33,  2.35it/s]"
     ]
    },
    {
     "name": "stdout",
     "output_type": "stream",
     "text": [
      "Original Image Size: torch.Size([1, 3, 512, 512])\n",
      "Feature Map Size After 1st Double Conv: torch.Size([1, 64, 512, 512])\n",
      "Feature Map Size at the End of Contractive Path: torch.Size([1, 1024, 32, 32])\n",
      "Output Image Size: torch.Size([1, 21, 512, 512])\n",
      "torch.Size([1, 21, 512, 512])\n",
      "torch.Size([1, 3, 512, 512])\n"
     ]
    },
    {
     "name": "stderr",
     "output_type": "stream",
     "text": [
      "  0%|          | 11/2913 [00:04<20:44,  2.33it/s]"
     ]
    },
    {
     "name": "stdout",
     "output_type": "stream",
     "text": [
      "Original Image Size: torch.Size([1, 3, 512, 512])\n",
      "Feature Map Size After 1st Double Conv: torch.Size([1, 64, 512, 512])\n",
      "Feature Map Size at the End of Contractive Path: torch.Size([1, 1024, 32, 32])\n",
      "Output Image Size: torch.Size([1, 21, 512, 512])\n",
      "torch.Size([1, 21, 512, 512])\n",
      "torch.Size([1, 3, 512, 512])\n"
     ]
    },
    {
     "name": "stderr",
     "output_type": "stream",
     "text": [
      "  0%|          | 12/2913 [00:04<20:50,  2.32it/s]"
     ]
    },
    {
     "name": "stdout",
     "output_type": "stream",
     "text": [
      "Original Image Size: torch.Size([1, 3, 512, 512])\n",
      "Feature Map Size After 1st Double Conv: torch.Size([1, 64, 512, 512])\n",
      "Feature Map Size at the End of Contractive Path: torch.Size([1, 1024, 32, 32])\n",
      "Output Image Size: torch.Size([1, 21, 512, 512])\n",
      "torch.Size([1, 21, 512, 512])\n",
      "torch.Size([1, 3, 512, 512])\n"
     ]
    },
    {
     "name": "stderr",
     "output_type": "stream",
     "text": [
      "  0%|          | 13/2913 [00:05<20:36,  2.35it/s]"
     ]
    },
    {
     "name": "stdout",
     "output_type": "stream",
     "text": [
      "Original Image Size: torch.Size([1, 3, 512, 512])\n",
      "Feature Map Size After 1st Double Conv: torch.Size([1, 64, 512, 512])\n",
      "Feature Map Size at the End of Contractive Path: torch.Size([1, 1024, 32, 32])\n",
      "Output Image Size: torch.Size([1, 21, 512, 512])\n",
      "torch.Size([1, 21, 512, 512])\n",
      "torch.Size([1, 3, 512, 512])\n"
     ]
    },
    {
     "name": "stderr",
     "output_type": "stream",
     "text": [
      "  0%|          | 14/2913 [00:05<20:45,  2.33it/s]"
     ]
    },
    {
     "name": "stdout",
     "output_type": "stream",
     "text": [
      "Original Image Size: torch.Size([1, 3, 512, 512])\n",
      "Feature Map Size After 1st Double Conv: torch.Size([1, 64, 512, 512])\n",
      "Feature Map Size at the End of Contractive Path: torch.Size([1, 1024, 32, 32])\n",
      "Output Image Size: torch.Size([1, 21, 512, 512])\n",
      "torch.Size([1, 21, 512, 512])\n",
      "torch.Size([1, 3, 512, 512])\n"
     ]
    },
    {
     "name": "stderr",
     "output_type": "stream",
     "text": [
      "  1%|          | 15/2913 [00:06<20:50,  2.32it/s]"
     ]
    },
    {
     "name": "stdout",
     "output_type": "stream",
     "text": [
      "Original Image Size: torch.Size([1, 3, 512, 512])\n",
      "Feature Map Size After 1st Double Conv: torch.Size([1, 64, 512, 512])\n",
      "Feature Map Size at the End of Contractive Path: torch.Size([1, 1024, 32, 32])\n",
      "Output Image Size: torch.Size([1, 21, 512, 512])\n",
      "torch.Size([1, 21, 512, 512])\n",
      "torch.Size([1, 3, 512, 512])\n"
     ]
    },
    {
     "name": "stderr",
     "output_type": "stream",
     "text": [
      "  1%|          | 16/2913 [00:06<20:33,  2.35it/s]"
     ]
    },
    {
     "name": "stdout",
     "output_type": "stream",
     "text": [
      "Original Image Size: torch.Size([1, 3, 512, 512])\n",
      "Feature Map Size After 1st Double Conv: torch.Size([1, 64, 512, 512])\n",
      "Feature Map Size at the End of Contractive Path: torch.Size([1, 1024, 32, 32])\n",
      "Output Image Size: torch.Size([1, 21, 512, 512])\n",
      "torch.Size([1, 21, 512, 512])\n",
      "torch.Size([1, 3, 512, 512])\n"
     ]
    },
    {
     "name": "stderr",
     "output_type": "stream",
     "text": [
      "  1%|          | 17/2913 [00:06<20:20,  2.37it/s]"
     ]
    },
    {
     "name": "stdout",
     "output_type": "stream",
     "text": [
      "Original Image Size: torch.Size([1, 3, 512, 512])\n",
      "Feature Map Size After 1st Double Conv: torch.Size([1, 64, 512, 512])\n",
      "Feature Map Size at the End of Contractive Path: torch.Size([1, 1024, 32, 32])\n",
      "Output Image Size: torch.Size([1, 21, 512, 512])\n",
      "torch.Size([1, 21, 512, 512])\n",
      "torch.Size([1, 3, 512, 512])\n"
     ]
    },
    {
     "name": "stderr",
     "output_type": "stream",
     "text": [
      "  1%|          | 18/2913 [00:07<20:09,  2.39it/s]"
     ]
    },
    {
     "name": "stdout",
     "output_type": "stream",
     "text": [
      "Original Image Size: torch.Size([1, 3, 512, 512])\n",
      "Feature Map Size After 1st Double Conv: torch.Size([1, 64, 512, 512])\n",
      "Feature Map Size at the End of Contractive Path: torch.Size([1, 1024, 32, 32])\n",
      "Output Image Size: torch.Size([1, 21, 512, 512])\n",
      "torch.Size([1, 21, 512, 512])\n",
      "torch.Size([1, 3, 512, 512])\n"
     ]
    },
    {
     "name": "stderr",
     "output_type": "stream",
     "text": [
      "  1%|          | 19/2913 [00:07<20:01,  2.41it/s]"
     ]
    },
    {
     "name": "stdout",
     "output_type": "stream",
     "text": [
      "Original Image Size: torch.Size([1, 3, 512, 512])\n",
      "Feature Map Size After 1st Double Conv: torch.Size([1, 64, 512, 512])\n",
      "Feature Map Size at the End of Contractive Path: torch.Size([1, 1024, 32, 32])\n",
      "Output Image Size: torch.Size([1, 21, 512, 512])\n",
      "torch.Size([1, 21, 512, 512])\n",
      "torch.Size([1, 3, 512, 512])\n"
     ]
    },
    {
     "name": "stderr",
     "output_type": "stream",
     "text": [
      "  1%|          | 20/2913 [00:08<19:55,  2.42it/s]"
     ]
    },
    {
     "name": "stdout",
     "output_type": "stream",
     "text": [
      "Original Image Size: torch.Size([1, 3, 512, 512])\n",
      "Feature Map Size After 1st Double Conv: torch.Size([1, 64, 512, 512])\n",
      "Feature Map Size at the End of Contractive Path: torch.Size([1, 1024, 32, 32])\n",
      "Output Image Size: torch.Size([1, 21, 512, 512])\n",
      "torch.Size([1, 21, 512, 512])\n",
      "torch.Size([1, 3, 512, 512])\n"
     ]
    },
    {
     "name": "stderr",
     "output_type": "stream",
     "text": [
      "  1%|          | 21/2913 [00:08<19:53,  2.42it/s]"
     ]
    },
    {
     "name": "stdout",
     "output_type": "stream",
     "text": [
      "Original Image Size: torch.Size([1, 3, 512, 512])\n",
      "Feature Map Size After 1st Double Conv: torch.Size([1, 64, 512, 512])\n",
      "Feature Map Size at the End of Contractive Path: torch.Size([1, 1024, 32, 32])\n",
      "Output Image Size: torch.Size([1, 21, 512, 512])\n",
      "torch.Size([1, 21, 512, 512])\n",
      "torch.Size([1, 3, 512, 512])\n"
     ]
    },
    {
     "name": "stderr",
     "output_type": "stream",
     "text": [
      "  1%|          | 22/2913 [00:08<19:53,  2.42it/s]"
     ]
    },
    {
     "name": "stdout",
     "output_type": "stream",
     "text": [
      "Original Image Size: torch.Size([1, 3, 512, 512])\n",
      "Feature Map Size After 1st Double Conv: torch.Size([1, 64, 512, 512])\n",
      "Feature Map Size at the End of Contractive Path: torch.Size([1, 1024, 32, 32])\n",
      "Output Image Size: torch.Size([1, 21, 512, 512])\n",
      "torch.Size([1, 21, 512, 512])\n",
      "torch.Size([1, 3, 512, 512])\n"
     ]
    },
    {
     "name": "stderr",
     "output_type": "stream",
     "text": [
      "  1%|          | 23/2913 [00:09<19:53,  2.42it/s]"
     ]
    },
    {
     "name": "stdout",
     "output_type": "stream",
     "text": [
      "Original Image Size: torch.Size([1, 3, 512, 512])\n",
      "Feature Map Size After 1st Double Conv: torch.Size([1, 64, 512, 512])\n",
      "Feature Map Size at the End of Contractive Path: torch.Size([1, 1024, 32, 32])\n",
      "Output Image Size: torch.Size([1, 21, 512, 512])\n",
      "torch.Size([1, 21, 512, 512])\n",
      "torch.Size([1, 3, 512, 512])\n"
     ]
    },
    {
     "name": "stderr",
     "output_type": "stream",
     "text": [
      "  1%|          | 24/2913 [00:09<20:15,  2.38it/s]"
     ]
    },
    {
     "name": "stdout",
     "output_type": "stream",
     "text": [
      "Original Image Size: torch.Size([1, 3, 512, 512])\n",
      "Feature Map Size After 1st Double Conv: torch.Size([1, 64, 512, 512])\n",
      "Feature Map Size at the End of Contractive Path: torch.Size([1, 1024, 32, 32])\n",
      "Output Image Size: torch.Size([1, 21, 512, 512])\n",
      "torch.Size([1, 21, 512, 512])\n",
      "torch.Size([1, 3, 512, 512])\n"
     ]
    },
    {
     "name": "stderr",
     "output_type": "stream",
     "text": [
      "  1%|          | 25/2913 [00:10<20:27,  2.35it/s]"
     ]
    },
    {
     "name": "stdout",
     "output_type": "stream",
     "text": [
      "Original Image Size: torch.Size([1, 3, 512, 512])\n",
      "Feature Map Size After 1st Double Conv: torch.Size([1, 64, 512, 512])\n",
      "Feature Map Size at the End of Contractive Path: torch.Size([1, 1024, 32, 32])\n",
      "Output Image Size: torch.Size([1, 21, 512, 512])\n",
      "torch.Size([1, 21, 512, 512])\n",
      "torch.Size([1, 3, 512, 512])\n"
     ]
    },
    {
     "name": "stderr",
     "output_type": "stream",
     "text": [
      "  1%|          | 26/2913 [00:10<20:37,  2.33it/s]"
     ]
    },
    {
     "name": "stdout",
     "output_type": "stream",
     "text": [
      "Original Image Size: torch.Size([1, 3, 512, 512])\n",
      "Feature Map Size After 1st Double Conv: torch.Size([1, 64, 512, 512])\n",
      "Feature Map Size at the End of Contractive Path: torch.Size([1, 1024, 32, 32])\n",
      "Output Image Size: torch.Size([1, 21, 512, 512])\n",
      "torch.Size([1, 21, 512, 512])\n",
      "torch.Size([1, 3, 512, 512])\n"
     ]
    },
    {
     "name": "stderr",
     "output_type": "stream",
     "text": [
      "  1%|          | 27/2913 [00:11<20:44,  2.32it/s]"
     ]
    },
    {
     "name": "stdout",
     "output_type": "stream",
     "text": [
      "Original Image Size: torch.Size([1, 3, 512, 512])\n",
      "Feature Map Size After 1st Double Conv: torch.Size([1, 64, 512, 512])\n",
      "Feature Map Size at the End of Contractive Path: torch.Size([1, 1024, 32, 32])\n",
      "Output Image Size: torch.Size([1, 21, 512, 512])\n",
      "torch.Size([1, 21, 512, 512])\n",
      "torch.Size([1, 3, 512, 512])\n"
     ]
    },
    {
     "name": "stderr",
     "output_type": "stream",
     "text": [
      "  1%|          | 28/2913 [00:11<20:36,  2.33it/s]"
     ]
    },
    {
     "name": "stdout",
     "output_type": "stream",
     "text": [
      "Original Image Size: torch.Size([1, 3, 512, 512])\n",
      "Feature Map Size After 1st Double Conv: torch.Size([1, 64, 512, 512])\n",
      "Feature Map Size at the End of Contractive Path: torch.Size([1, 1024, 32, 32])\n",
      "Output Image Size: torch.Size([1, 21, 512, 512])\n",
      "torch.Size([1, 21, 512, 512])\n",
      "torch.Size([1, 3, 512, 512])\n"
     ]
    },
    {
     "name": "stderr",
     "output_type": "stream",
     "text": [
      "  1%|          | 29/2913 [00:11<20:21,  2.36it/s]"
     ]
    },
    {
     "name": "stdout",
     "output_type": "stream",
     "text": [
      "Original Image Size: torch.Size([1, 3, 512, 512])\n",
      "Feature Map Size After 1st Double Conv: torch.Size([1, 64, 512, 512])\n",
      "Feature Map Size at the End of Contractive Path: torch.Size([1, 1024, 32, 32])\n",
      "Output Image Size: torch.Size([1, 21, 512, 512])\n",
      "torch.Size([1, 21, 512, 512])\n",
      "torch.Size([1, 3, 512, 512])\n"
     ]
    },
    {
     "name": "stderr",
     "output_type": "stream",
     "text": [
      "  1%|          | 29/2913 [00:12<20:25,  2.35it/s]\n"
     ]
    },
    {
     "ename": "KeyboardInterrupt",
     "evalue": "",
     "output_type": "error",
     "traceback": [
      "\u001b[0;31m---------------------------------------------------------------------------\u001b[0m",
      "\u001b[0;31mKeyboardInterrupt\u001b[0m                         Traceback (most recent call last)",
      "\u001b[0;32m<ipython-input-14-c6243d4d1f52>\u001b[0m in \u001b[0;36m<module>\u001b[0;34m\u001b[0m\n\u001b[1;32m      5\u001b[0m     \u001b[0;31m# your code goes here\u001b[0m\u001b[0;34m\u001b[0m\u001b[0;34m\u001b[0m\u001b[0;34m\u001b[0m\u001b[0m\n\u001b[1;32m      6\u001b[0m         \u001b[0mcriterion\u001b[0m \u001b[0;34m=\u001b[0m \u001b[0mloss_f\u001b[0m\u001b[0;34m\u001b[0m\u001b[0;34m\u001b[0m\u001b[0m\n\u001b[0;32m----> 7\u001b[0;31m         \u001b[0mtrain\u001b[0m\u001b[0;34m(\u001b[0m\u001b[0mdst\u001b[0m\u001b[0;34m,\u001b[0m \u001b[0mtrainloader\u001b[0m\u001b[0;34m,\u001b[0m \u001b[0mmodel\u001b[0m\u001b[0;34m,\u001b[0m \u001b[0mcriterion\u001b[0m\u001b[0;34m,\u001b[0m \u001b[0mopt\u001b[0m\u001b[0;34m)\u001b[0m\u001b[0;34m\u001b[0m\u001b[0;34m\u001b[0m\u001b[0m\n\u001b[0m",
      "\u001b[0;32m<ipython-input-13-e49765ef720e>\u001b[0m in \u001b[0;36mtrain\u001b[0;34m(dataset, data_loader, model, criterion, optimizer)\u001b[0m\n\u001b[1;32m     29\u001b[0m         \u001b[0mprint\u001b[0m\u001b[0;34m(\u001b[0m\u001b[0minputs\u001b[0m\u001b[0;34m.\u001b[0m\u001b[0mshape\u001b[0m\u001b[0;34m)\u001b[0m\u001b[0;34m\u001b[0m\u001b[0;34m\u001b[0m\u001b[0m\n\u001b[1;32m     30\u001b[0m         \u001b[0;31m# move images and masks to cpu/gpu device\u001b[0m\u001b[0;34m\u001b[0m\u001b[0;34m\u001b[0m\u001b[0;34m\u001b[0m\u001b[0m\n\u001b[0;32m---> 31\u001b[0;31m         \u001b[0minputs\u001b[0m \u001b[0;34m=\u001b[0m \u001b[0minputs\u001b[0m\u001b[0;34m.\u001b[0m\u001b[0mto\u001b[0m\u001b[0;34m(\u001b[0m\u001b[0mDEVICE\u001b[0m\u001b[0;34m,\u001b[0m \u001b[0mdtype\u001b[0m\u001b[0;34m=\u001b[0m\u001b[0mtorch\u001b[0m\u001b[0;34m.\u001b[0m\u001b[0mfloat\u001b[0m\u001b[0;34m)\u001b[0m\u001b[0;34m\u001b[0m\u001b[0;34m\u001b[0m\u001b[0m\n\u001b[0m\u001b[1;32m     32\u001b[0m         \u001b[0mtargets\u001b[0m \u001b[0;34m=\u001b[0m \u001b[0mtargets\u001b[0m\u001b[0;34m.\u001b[0m\u001b[0mto\u001b[0m\u001b[0;34m(\u001b[0m\u001b[0mDEVICE\u001b[0m\u001b[0;34m,\u001b[0m \u001b[0mdtype\u001b[0m\u001b[0;34m=\u001b[0m\u001b[0mtorch\u001b[0m\u001b[0;34m.\u001b[0m\u001b[0mlong\u001b[0m\u001b[0;34m)\u001b[0m\u001b[0;34m\u001b[0m\u001b[0;34m\u001b[0m\u001b[0m\n\u001b[1;32m     33\u001b[0m         \u001b[0;31m# zero grad the optimizer\u001b[0m\u001b[0;34m\u001b[0m\u001b[0;34m\u001b[0m\u001b[0;34m\u001b[0m\u001b[0m\n",
      "\u001b[0;31mKeyboardInterrupt\u001b[0m: "
     ]
    }
   ],
   "source": [
    "DEVICE = torch.device(\"cuda\" if torch.cuda.is_available() else \"cpu\")\n",
    "\n",
    "for _ in range(epochs):\n",
    "    for i, d in enumerate(trainloader):\n",
    "    # your code goes here\n",
    "        criterion = loss_f\n",
    "        train(dst, trainloader, model, criterion, opt)\n"
   ]
  },
  {
   "cell_type": "markdown",
   "metadata": {},
   "source": [
    "### 1.7 Evaluate your model(1.5 points)\n",
    "In this section you have to implement the evaluation metrics for your model. Calculate the values of F1-score, dice coefficient and AUC-ROC score on the data you used for training. You can use external packages like scikit-learn to compute above metrics."
   ]
  },
  {
   "cell_type": "code",
   "execution_count": null,
   "metadata": {},
   "outputs": [],
   "source": [
    "def evaluate(ground_truth, predictions):\n",
    "    \n",
    "    return f1_score, auc_score, dice_coeeficient"
   ]
  },
  {
   "cell_type": "markdown",
   "metadata": {},
   "source": [
    "### 1.8 Plot the evaluation metrics against epochs(1.0)\n",
    "In section 1.6 we saved the weights of the model after each epoch. In this section, you have to calculate the evaluation metrics after each epoch of training by loading the weights for each epoch. Once you have calculated the evaluation metrics for each epoch, plot them against the epochs."
   ]
  },
  {
   "cell_type": "code",
   "execution_count": null,
   "metadata": {},
   "outputs": [],
   "source": []
  },
  {
   "cell_type": "markdown",
   "metadata": {},
   "source": [
    "### 1.9 Visualize results(0.5 points)\n",
    "For any 10 images in the dataset, show the images along the with their segmentation mask."
   ]
  },
  {
   "cell_type": "code",
   "execution_count": null,
   "metadata": {
    "id": "3NS50IL_c7Mf"
   },
   "outputs": [],
   "source": []
  },
  {
   "cell_type": "markdown",
   "metadata": {},
   "source": [
    "**Helpful resources for part 2**"
   ]
  },
  {
   "cell_type": "markdown",
   "metadata": {},
   "source": [
    "Cityscapes data loader similar to pascal voc: https://github.com/meetshah1995/pytorch-semseg/tree/801fb200547caa5b0d91b8dde56b837da029f746/ptsemseg/loader"
   ]
  },
  {
   "cell_type": "code",
   "execution_count": null,
   "metadata": {},
   "outputs": [],
   "source": []
  }
 ],
 "metadata": {
  "accelerator": "GPU",
  "colab": {
   "authorship_tag": "ABX9TyNWH9Es3iVeYFlc2UXzgAC7",
   "collapsed_sections": [],
   "mount_file_id": "1VGd6BoJzZfNjljQpW2Y1nDcze9QND0pA",
   "name": "Copy of segmentation_1.ipynb",
   "provenance": [
    {
     "file_id": "1VGd6BoJzZfNjljQpW2Y1nDcze9QND0pA",
     "timestamp": 1610458540688
    }
   ]
  },
  "kernelspec": {
   "display_name": "vm_torch",
   "language": "python",
   "name": "vm_torch"
  },
  "language_info": {
   "codemirror_mode": {
    "name": "ipython",
    "version": 3
   },
   "file_extension": ".py",
   "mimetype": "text/x-python",
   "name": "python",
   "nbconvert_exporter": "python",
   "pygments_lexer": "ipython3",
   "version": "3.6.9"
  }
 },
 "nbformat": 4,
 "nbformat_minor": 4
}
